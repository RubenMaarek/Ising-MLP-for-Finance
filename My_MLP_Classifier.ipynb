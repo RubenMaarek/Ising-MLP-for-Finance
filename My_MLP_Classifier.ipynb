{
 "cells": [
  {
   "cell_type": "markdown",
   "metadata": {},
   "source": [
    "# 1. Project Motivation"
   ]
  },
  {
   "cell_type": "markdown",
   "metadata": {},
   "source": [
    "I wanted to choose a subject that uses a physics model to simulate a market model. This type of field of research is called 'econo-physics' and has gained some reputation over the last couple of decades. \n",
    "\\\\\n",
    "A few papers apply a modified Ising model to simulate an agent-based market model. \\\\\n",
    "Namely, this paper from Bornholdt [1] from 2001 explores 'frustrated' dynamics of the model, where each agent (i.e spin) is motivated by two major conflicting forces : \n",
    "- Following its neighbors : Herd behavior\n",
    "\n",
    "- Following the minority : Traders with information are part of the minority \n",
    "This different approach interprets each spin of the Ising lattice as an agent, where a spin $+1$ corresponds to a buy, and a spin $-1$ corresponds to a sell. \\\\\n",
    "Thus, we can consider the evolution of the model as the evolution of the interacting agent strategies, where the magnetization of the model corresponds to the evolution of price.\n",
    "\n",
    "When analyzing the evolution of an asset, we often look at the evolution of the log-return. It has been shown in Ref [2] that this log-return is proportional to the value $r(t)=M(t)-M(t-1)$ in our Ising model simulation. \n",
    "\n",
    "The main factor that determines the behavior of $r(t)$ when running an Ising model is the temperature $T$ under which our model evolves. \n",
    "Whether $T$ is below or above the critical temperature $T_c$ determines the behavior : \n",
    "Below the critical temperature in the Ising model, spins align to create long-range order and spontaneous symmetry breaking, while above it, thermal fluctuations dominate, leading to random spin orientations and the absence of long-range order or symmetry breaking.\n",
    "\n",
    "Since in financial analysis we can easily observe the log-returns of an asset, I wanted to build a supervised model that is trained on the generated data $r(t)$ from an Ising model simulation and its temperature label. The model should then be able to infer whether a given time-series $r(t)$ is evolving below, around or above the critical temperature $T_c$. \n",
    "\n",
    "I find it interesting to determine $T_c$ in this context, as it has not been done before in this way. (I have seen it for interpreting an Ising grid, but the financial context behind it has never been explored for this problem). $T_c$ in this context can be interpreted as the reactiveness of the market. \n",
    "Indeed, below the critical temperature $T_c$, the market is less random and more correlated, leading to stable phases punctuated by sudden bursts of volatility resembling financial bubbles and crashes. Around and above $T_c$, the market transitions to more chaotic and less predictable behavior with increased fluctuations, while significantly above $T_c$, higher randomness leads to diminished correlations among traders, resulting in a more stable but individually driven market dynamic.\n",
    "\n",
    "Thus using a model to infer the so called 'market temperature' based on asset's log-returns analysis can be a pertinent tool to estimate the behavior of the current market.\n",
    "\n",
    "Generated data from Ising follows a similar distribution from real-world data, hence the interest in such a simulation."
   ]
  },
  {
   "cell_type": "markdown",
   "metadata": {},
   "source": [
    "# 2. Literature Review"
   ]
  },
  {
   "cell_type": "markdown",
   "metadata": {},
   "source": [
    "The main inspiration for this framework is the Bornholdt paper from 2001 [1]. This paper applies an Ising spin-model to perform agent-based market analysis. It aims to demonstrate how market phenomena like volatility and extreme market events can be interpreted by focusing on the interaction among traders and the effect of their behavior on market dynamics.\n",
    "\n",
    "Many papers have since developed further on this model, including some later papers of himself ([3]).\n",
    "\n",
    "Some papers take it way further in the financial analysis such as [5], which is not the angle I chose to approach this.\n",
    "\n",
    "The paper from Ref [4] takes a similar approach to mine by determining the (hyper)parameters of the Ising model, although no Machine Learning is used.\n",
    "\n",
    "Finally, this presentation form University of Warwick is where the idea of using a MLP Classifier to class temperatures of the Ising model as below, close to, or above $T_c$ came from. \n",
    "To avoid plagiarism on this document, I made two big changes that make their code implementation useless : \n",
    "\n",
    "- I'm using Pytorch instead of Keras\n",
    "- My input dataset are a time-series of log-returns instead of the Ising grid\n"
   ]
  },
  {
   "cell_type": "markdown",
   "metadata": {},
   "source": [
    "# 3. Dataset"
   ]
  },
  {
   "cell_type": "markdown",
   "metadata": {},
   "source": [
    "## Background context\n",
    "\n",
    "As mentioned before, my dataset is as follows :\n",
    "- A time series representing the log-return extracted from the Ising model simulation $r(t) = M(t)-M(t-1)$.\n",
    "- The value of the temperature $T$ under which this Ising simulation was ran\n",
    "\n",
    "The dataset needs to go through some pre-processing to be able to be fed to the Neural network, as we'll see later."
   ]
  },
  {
   "cell_type": "markdown",
   "metadata": {},
   "source": [
    "## Source\n",
    "\n",
    "My dataset has been generated from running an Ising model at several different temperatures ranging from $0.1*T_c$ to $5.0 *T_c$. Temperatures are then classified into 3 categories : \n",
    "- below $T_c$ if $T,0.75*T_c$\n",
    "- around $T_c$ if $0.75*T_c< T < 1.45*T_c$\n",
    "- above $T_c$ if $T> 1.45*T_c$ \n",
    "The total dataset is of only 2100 elements due to the time it takes to run each Ising simulation. However some tricks allow us to get more of it.\n",
    "\n",
    "The generated data is noisy due to the nature of the Ising model simulation and its inclusion of MCMC .\n",
    "However, for this same reason the data is not generated quickly, at around 5 data points per minute, thus I was able to fit 2100 data points into an h5 file of less than 10MB. "
   ]
  },
  {
   "cell_type": "markdown",
   "metadata": {},
   "source": [
    "## Describing the Dataset\n",
    "\n",
    "The input features of my dataset are the time series and temperature class corresponding to each time series.\n",
    "\n",
    "Some pre-processing is required to make the most of this dataset. \n",
    "First of all I applied a window function to make multiple smaller time series out of each one, making smaller time-series and thus creating a larger dataset to feed the model.\n",
    "\n",
    "To improve performance, I added features to the dataset : minimum and maximum values, mean, and standard deviation to measure relevant characteristics of the time-series.\n",
    "\n",
    "The noisiness of the model is a desired behavior, since simulating a market must come with noise, and that high deviations are one of the most relevant features to estimate temperatures. \n",
    "\n",
    "So, choosing a window size of 50, and with these added features, our dataset is of size : \n",
    "$(X,y) : (32900, 54);(32900, ) $"
   ]
  },
  {
   "cell_type": "code",
   "execution_count": 183,
   "metadata": {},
   "outputs": [
    {
     "name": "stdout",
     "output_type": "stream",
     "text": [
      "The autoreload extension is already loaded. To reload it, use:\n",
      "  %reload_ext autoreload\n"
     ]
    }
   ],
   "source": [
    "import torch\n",
    "from torch import nn \n",
    "import time\n",
    "\n",
    "import numpy as np\n",
    "from matplotlib import pyplot as plt\n",
    "\n",
    "from sklearn.decomposition import PCA\n",
    "from sklearn.model_selection import train_test_split, cross_validate, KFold\n",
    "from sklearn.mixture import GaussianMixture\n",
    "import sklearn, matplotlib\n",
    "\n",
    "import h5py\n",
    "\n",
    "%matplotlib inline\n",
    "%load_ext autoreload\n",
    "%autoreload 2"
   ]
  },
  {
   "cell_type": "code",
   "execution_count": 184,
   "metadata": {},
   "outputs": [
    {
     "data": {
      "text/plain": [
       "'cpu'"
      ]
     },
     "execution_count": 184,
     "metadata": {},
     "output_type": "execute_result"
    }
   ],
   "source": [
    "#Checks if cuda is available, if not, uses CPU instead.\n",
    "if torch.cuda.is_available():\n",
    "    device = \"cuda:0\"\n",
    "else:\n",
    "    device = \"cpu\"\n",
    "\n",
    "device"
   ]
  },
  {
   "cell_type": "markdown",
   "metadata": {},
   "source": [
    "# Importing data"
   ]
  },
  {
   "cell_type": "code",
   "execution_count": 185,
   "metadata": {},
   "outputs": [
    {
     "name": "stdout",
     "output_type": "stream",
     "text": [
      "Shape of X data: (2100,)\n",
      "Shape of y data: (2100,)\n"
     ]
    }
   ],
   "source": [
    "filename = 'returns_dataset.h5'\n",
    "\n",
    "X = []\n",
    "y = []\n",
    "\n",
    "with h5py.File(filename, 'r') as f:\n",
    "    temperatures = list(f.keys())\n",
    "\n",
    "    for temperature in temperatures:\n",
    "        data = f[temperature][:]\n",
    "\n",
    "        X.append(data.tolist())  \n",
    "        y.append(float(temperature))\n",
    "\n",
    "X_data = np.array(X, dtype=object)  \n",
    "y_data = np.array(y)\n",
    "\n",
    "print(\"Shape of X data:\", X_data.shape)\n",
    "print(\"Shape of y data:\", y_data.shape)\n"
   ]
  },
  {
   "cell_type": "code",
   "execution_count": 186,
   "metadata": {},
   "outputs": [
    {
     "data": {
      "image/png": "[encoded data removed]",
      "text/plain": [
       "<Figure size 640x480 with 1 Axes>"
      ]
     },
     "metadata": {},
     "output_type": "display_data"
    }
   ],
   "source": [
    "# Distribution graph of temperature values\n",
    "plt.hist(y_data, bins=20, color='skyblue', edgecolor='black')\n",
    "plt.title('Distribution of Temperature Values')\n",
    "plt.xlabel('Temperature')\n",
    "plt.ylabel('Frequency')\n",
    "plt.grid(True)\n",
    "plt.show()"
   ]
  },
  {
   "cell_type": "code",
   "execution_count": 187,
   "metadata": {},
   "outputs": [
    {
     "name": "stdout",
     "output_type": "stream",
     "text": [
      "Length 187: 1850 lists\n",
      "Length 374: 250 lists\n"
     ]
    }
   ],
   "source": [
    "from collections import Counter\n",
    "\n",
    "# Count the occurrences of each length in X_data\n",
    "length_counts = Counter(len(x) for x in X_data)\n",
    "\n",
    "# Print the count of lists for each unique length\n",
    "for length, count in length_counts.items():\n",
    "    print(f\"Length {length}: {count} lists\")\n"
   ]
  },
  {
   "cell_type": "markdown",
   "metadata": {},
   "source": [
    "It appeared that some of my data is of twice the length, because of the way I wrote my code in data_generator.py, it appends to an existing list if the temperature value already exists. Although I am surprise this scenario happened when generating random values, it can be dealt with splitting the data points in half to retrieve the 2 simulation runs."
   ]
  },
  {
   "cell_type": "code",
   "execution_count": 188,
   "metadata": {},
   "outputs": [
    {
     "name": "stdout",
     "output_type": "stream",
     "text": [
      "New shape of X data: (2350, 187)\n",
      "New shape of y data: (2350,)\n"
     ]
    }
   ],
   "source": [
    "def process_data(X, y):\n",
    "    X_processed = []\n",
    "    y_processed = []\n",
    "\n",
    "    for features, label in zip(X, y):\n",
    "        if len(features) == 374:\n",
    "            # Split the list into two parts of equal length 187\n",
    "            X_processed.append(features[:187])\n",
    "            X_processed.append(features[187:])\n",
    "            y_processed.append(label)\n",
    "            y_processed.append(label)\n",
    "        else:\n",
    "            X_processed.append(features)\n",
    "            y_processed.append(label)\n",
    "\n",
    "    return np.array(X_processed), np.array(y_processed)\n",
    "\n",
    "X_processed, y_processed = process_data(X_data, y_data)\n",
    "\n",
    "print(\"New shape of X data:\", X_processed.shape)\n",
    "print(\"New shape of y data:\", y_processed.shape)\n"
   ]
  },
  {
   "cell_type": "code",
   "execution_count": 189,
   "metadata": {},
   "outputs": [
    {
     "data": {
      "image/png": "[encoded data removed]",
      "text/plain": [
       "<Figure size 640x480 with 1 Axes>"
      ]
     },
     "metadata": {},
     "output_type": "display_data"
    }
   ],
   "source": [
    "# Plot a distribution graph of temperature values\n",
    "plt.hist(y_processed, bins=20, color='skyblue', edgecolor='black')\n",
    "plt.title('Distribution of Temperature Values')\n",
    "plt.xlabel('Temperature')\n",
    "plt.ylabel('Frequency')\n",
    "plt.grid(True)\n",
    "plt.show()"
   ]
  },
  {
   "cell_type": "markdown",
   "metadata": {},
   "source": [
    "The distribution of temperatures has not changed too much post-processing, which is great."
   ]
  },
  {
   "cell_type": "markdown",
   "metadata": {},
   "source": [
    "### Transforming temperature into classifications\n",
    "\n",
    "With a value of $T_c = 3.7$, we define 3 classes of temperature ranges"
   ]
  },
  {
   "cell_type": "code",
   "execution_count": 190,
   "metadata": {},
   "outputs": [],
   "source": [
    "Tc = 3.7"
   ]
  },
  {
   "cell_type": "code",
   "execution_count": 191,
   "metadata": {},
   "outputs": [],
   "source": [
    "# def temp_range_to_label(temp, Tc):\n",
    "#     if temp < 0.1 : #should not happen, here just in case\n",
    "#         return 0\n",
    "#     elif 0.1 <= temp < 0.5 * Tc:\n",
    "#         return 0\n",
    "#     elif 0.5 * Tc <= temp < 0.9 * Tc:\n",
    "#         return 1\n",
    "#     elif 0.9 * Tc <= temp < 1.1 * Tc:\n",
    "#         return 2\n",
    "#     elif 1.1 * Tc <= temp < 2.0 * Tc:\n",
    "#         return 3\n",
    "#     elif 2.0 * Tc <= temp < 5.0 * Tc:\n",
    "#         return 4\n",
    "#     else:\n",
    "#         raise ValueError(\"Temperature out of range\")\n",
    "    \n",
    "# y_classification = np.array([temp_range_to_label(temp, Tc) for temp in y_processed])\n",
    "\n",
    "# # Check the unique class labels\n",
    "# unique_labels = np.unique(y_classification)\n",
    "# print(\"Unique class labels:\", unique_labels)"
   ]
  },
  {
   "cell_type": "code",
   "execution_count": 192,
   "metadata": {},
   "outputs": [
    {
     "name": "stdout",
     "output_type": "stream",
     "text": [
      "Unique class labels: [0 1 2]\n"
     ]
    }
   ],
   "source": [
    "def temp_range_to_label(temp, Tc):\n",
    "    if temp < 0.75*Tc:\n",
    "        return 0\n",
    "    elif 0.75*Tc  <= temp < 1.45 * Tc:\n",
    "        return 1\n",
    "    else:\n",
    "        return 2\n",
    "\n",
    "y_classification = np.array([temp_range_to_label(temp, Tc) for temp in y_processed])\n",
    "\n",
    "# Check the unique class labels\n",
    "unique_labels = np.unique(y_classification)\n",
    "print(\"Unique class labels:\", unique_labels)\n"
   ]
  },
  {
   "cell_type": "code",
   "execution_count": 193,
   "metadata": {},
   "outputs": [
    {
     "name": "stdout",
     "output_type": "stream",
     "text": [
      "Class Distribution: {0: 778, 1: 798, 2: 774}\n"
     ]
    }
   ],
   "source": [
    "unique, counts = np.unique(y_classification, return_counts=True)\n",
    "class_distribution = dict(zip(unique, counts))\n",
    "\n",
    "print(\"Class Distribution:\", class_distribution)"
   ]
  },
  {
   "cell_type": "code",
   "execution_count": 194,
   "metadata": {},
   "outputs": [
    {
     "data": {
      "text/plain": [
       "(2350,)"
      ]
     },
     "execution_count": 194,
     "metadata": {},
     "output_type": "execute_result"
    }
   ],
   "source": [
    "y_classification.shape"
   ]
  },
  {
   "cell_type": "markdown",
   "metadata": {},
   "source": [
    "# Avoiding Overfitting : Transforming the data"
   ]
  },
  {
   "cell_type": "code",
   "execution_count": 195,
   "metadata": {},
   "outputs": [
    {
     "name": "stdout",
     "output_type": "stream",
     "text": [
      "(2350, 187) \n",
      " (2350,)\n"
     ]
    }
   ],
   "source": [
    "X, y = X_processed, y_classification\n",
    "print(X.shape, '\\n', y.shape)"
   ]
  },
  {
   "cell_type": "markdown",
   "metadata": {},
   "source": [
    "## Feature Engineering"
   ]
  },
  {
   "cell_type": "code",
   "execution_count": 196,
   "metadata": {},
   "outputs": [
    {
     "name": "stdout",
     "output_type": "stream",
     "text": [
      "Original Shape: (2350, 187)\n",
      "New Shape with Fourier Features: (2350, 281)\n"
     ]
    }
   ],
   "source": [
    "def add_fourier_features(X):\n",
    "    # Apply Fourier transform and take absolute values (magnitudes)\n",
    "    fourier_features = np.abs(np.fft.rfft(X, axis=1))\n",
    "    \n",
    "    # Normalize the Fourier features\n",
    "    fourier_features /= fourier_features.sum(axis=1, keepdims=True)\n",
    "    \n",
    "    # Concatenate with the original features \n",
    "    X_enhanced = np.concatenate([X, fourier_features], axis=1)\n",
    "    return X_enhanced\n",
    "\n",
    "X_fourier = add_fourier_features(X_processed)\n",
    "\n",
    "print(\"Original Shape:\", X_processed.shape)\n",
    "print(\"New Shape with Fourier Features:\", X_fourier.shape)"
   ]
  },
  {
   "cell_type": "markdown",
   "metadata": {},
   "source": [
    "## Windowing approach to segment each time series and extract more data points"
   ]
  },
  {
   "cell_type": "code",
   "execution_count": 197,
   "metadata": {},
   "outputs": [
    {
     "data": {
      "text/plain": [
       "((32900, 50), (32900,))"
      ]
     },
     "execution_count": 197,
     "metadata": {},
     "output_type": "execute_result"
    }
   ],
   "source": [
    "def create_windows(data, window_size, step_size):\n",
    "    \"\"\"\n",
    "    This function creates overlapping windows from the time series data.\n",
    "    \n",
    "    Parameters:\n",
    "        data (np.array): The input time series data (number of instances, time series length).\n",
    "        window_size (int): The size of each window.\n",
    "        step_size (int): The step size to move the window.\n",
    "    \n",
    "    Returns:\n",
    "        np.array: An array of windows created from the time series data.\n",
    "    \"\"\"\n",
    "    n_samples = data.shape[0]\n",
    "    n_windows = (data.shape[1] - window_size) // step_size + 1\n",
    "    windows = np.zeros((n_samples * n_windows, window_size))\n",
    "\n",
    "    for i in range(n_samples):\n",
    "        for j in range(n_windows):\n",
    "            start = j * step_size\n",
    "            end = start + window_size\n",
    "            windows[i * n_windows + j] = data[i, start:end]\n",
    "\n",
    "    return windows\n",
    "\n",
    "#  adjust y to match the windows created from X\n",
    "def adjust_labels_for_windows(y_labels, window_size, step_size, original_length=187):\n",
    "    n_windows_per_sequence = (original_length - window_size) // step_size + 1\n",
    "    y_windowed = np.repeat(y_labels, n_windows_per_sequence)\n",
    "    return y_windowed\n",
    "\n",
    "# Adjusting y_classification to match the windowed X\n",
    "window_size = 50\n",
    "X_windowed = create_windows(X, window_size=window_size, step_size=10)\n",
    "y_windowed = adjust_labels_for_windows(y_classification, window_size=window_size, step_size=10)\n",
    "\n",
    "X_windowed.shape, y_windowed.shape "
   ]
  },
  {
   "cell_type": "markdown",
   "metadata": {},
   "source": [
    "## One-hot encoding of classes"
   ]
  },
  {
   "cell_type": "code",
   "execution_count": 198,
   "metadata": {},
   "outputs": [
    {
     "name": "stdout",
     "output_type": "stream",
     "text": [
      "Shape of y_windowed: (32900,)\n",
      "Shape of y_one_hot: (32900, 3)\n"
     ]
    }
   ],
   "source": [
    "import numpy as np\n",
    "\n",
    "def one_hot_encode(labels, num_classes):\n",
    "    \"\"\"\n",
    "    One-hot encodes the labels.\n",
    "\n",
    "    Parameters:\n",
    "        labels (np.array): Array of integer class labels.\n",
    "        num_classes (int): Total number of classes.\n",
    "\n",
    "    Returns:\n",
    "        np.array: One-hot encoded matrix.\n",
    "    \"\"\"\n",
    "    return np.eye(num_classes)[labels]\n",
    "\n",
    "num_classes = np.unique(y_windowed).size  \n",
    "y_one_hot = one_hot_encode(y_windowed, num_classes)\n",
    "\n",
    "print(\"Shape of y_windowed:\", y_windowed.shape)\n",
    "print(\"Shape of y_one_hot:\", y_one_hot.shape)\n"
   ]
  },
  {
   "cell_type": "markdown",
   "metadata": {},
   "source": [
    "### Add relevant features "
   ]
  },
  {
   "cell_type": "code",
   "execution_count": 199,
   "metadata": {},
   "outputs": [
    {
     "name": "stdout",
     "output_type": "stream",
     "text": [
      "Original Shape: (32900, 50)\n",
      "New Shape with Statistical Features: (32900, 54)\n"
     ]
    }
   ],
   "source": [
    "import numpy as np\n",
    "from scipy.stats import kurtosis, skew\n",
    "\n",
    "def add_statistical_features(X):\n",
    "    \"\"\"\n",
    "    Adds statistical features to each window in the dataset.\n",
    "    \n",
    "    Parameters:\n",
    "        X (np.ndarray): The input dataset (number of windows, window size).\n",
    "\n",
    "    Returns:\n",
    "        np.ndarray: The enhanced feature set including the original features plus new statistical features.\n",
    "    \"\"\"\n",
    "    # Calculate various statistical measures\n",
    "    max_values = np.max(X, axis=1, keepdims=True)\n",
    "    min_values = np.min(X, axis=1, keepdims=True)\n",
    "    mean_values = np.mean(X, axis=1, keepdims=True)\n",
    "    std_values = np.std(X, axis=1, keepdims=True)\n",
    "    # kurtosis_values = kurtosis(X, axis=1, fisher=True, bias=False).reshape(-1, 1)\n",
    "    # skewness_values = skew(X, axis=1, bias=False).reshape(-1, 1)\n",
    "    \n",
    "    # Combine all features\n",
    "    X_enhanced = np.concatenate([\n",
    "        X, max_values, min_values, mean_values, std_values, \n",
    "    ], axis=1)\n",
    "\n",
    "    return X_enhanced\n",
    "\n",
    "# Apply the function to your windowed dataset\n",
    "X_enhanced = add_statistical_features(X_windowed)\n",
    "\n",
    "print(\"Original Shape:\", X_windowed.shape)\n",
    "print(\"New Shape with Statistical Features:\", X_enhanced.shape)"
   ]
  },
  {
   "cell_type": "code",
   "execution_count": 200,
   "metadata": {},
   "outputs": [
    {
     "name": "stdout",
     "output_type": "stream",
     "text": [
      "Columns with NaN values: []\n"
     ]
    }
   ],
   "source": [
    "nan_columns = np.any(np.isnan(X_enhanced), axis=0)\n",
    "nan_column_indices = np.where(nan_columns)[0]\n",
    "\n",
    "print(\"Columns with NaN values:\", nan_column_indices)\n"
   ]
  },
  {
   "cell_type": "markdown",
   "metadata": {},
   "source": [
    "# 4. Model and Training"
   ]
  },
  {
   "cell_type": "markdown",
   "metadata": {},
   "source": [
    "## Loss Model :\n",
    "\n",
    "Since we are doing a classification problem, it is natural to use the categorical cross-entropy loss : \n",
    "$$\n",
    "\\mathcal{L}_{CE}(\\Theta) = - \\sum_{i=1}^{N} \\sum_{c=1}^{C} y_{ic} \\log{\\hat{y}_{ic}(\\Theta)}\n",
    "$$\n",
    "Where:\n",
    "\n",
    "\\begin{itemize}\n",
    "    \\item N is the number of samples in the dataset (=32900 here).\n",
    "    \\item C is the number of classes (3 classes here)\n",
    "    \\item  $y_{ic}$is a binary indicator (0 or 1) if class label $c$ is the correct classification for observation $i$.\n",
    "    \\item $\\hat{y}_{ic}(\\Theta)$ is the predicted probability of observation $i$ being of class $c$ , computed by the MLP model with parameters $\\Theta$.\n",
    "\\end{itemize}\n",
    "\n",
    "In this study, the cross-entropy loss function was selected for the MLP classifier due to its robust performance in multi-class classification tasks, which aligns with our objective to categorize market temperatures based on Ising model simulations. This choice is particularly apt as it not only quantifies the divergence between predicted probabilities and actual class labels, but also maximizes the likelihood of the observed data under the model—a key consideration given the probabilistic outputs required for effectively simulating market behaviors. By adopting cross-entropy, the model is encouraged to enhance both the accuracy and confidence of its predictions, crucial for the nuanced analysis of econophysics-based market simulations.\n",
    "\n",
    "\\subsubsection{Model training}\n",
    "\n",
    "The training of the MLP classifier in this project is supervised, as it involves using labeled data where each input (a time-series of market temperatures derived from Ising model simulations) is associated with a specific class label (categorized temperature ranges). It is a classification problem, and not regression, since the objective is to categorize each input into one of the three  categories representing the different temperature regimes.\n",
    "\n",
    "The loss landscape of the MLP used in this study is expected to be non-convex. This is typical for neural networks due to their complex architectures and the nature of the activation functions used, such as ReLU in our case. Non-convex landscapes can have multiple local minima and saddle points, which can make training more challenging\n",
    "\n",
    "The MLP model is trained using the backpropagation algorithm. Backpropagation efficiently computes the gradients of the loss function with respect to each weight in the network by applying the chain rule of calculus, propagating errors back through the network. Below is a pedagogical breakdown:\n",
    "\n",
    "\\begin{enumerate}\n",
    "    \\item \\textbf{Initialization:} Weights and biases in the MLP are initialized randomly.\n",
    "    \\item \\textbf{Forward Pass:} Each input batch is passed forward through the network layers. Neurons apply a weighted sum on inputs, followed by an activation function (ReLU in this case) to introduce non-linearity, allowing the network to learn complex patterns.\n",
    "    \\item \\textbf{Loss Calculation:} After the forward pass, the output is compared to the true labels using the cross-entropy loss function. This function quantifies the difference between the predicted class probabilities and the actual class labels.\n",
    "    \\item \\textbf{Backward Pass (Backpropagation):} The gradient of the loss function with respect to each weight is calculated, starting from the output layer and moving backwards through the network. This step is crucial as it informs how much and in which direction each weight should be adjusted to minimize the error.\n",
    "    \\item \\textbf{Weight Update:} Weights are updated using the gradients calculated during backpropagation. The update is typically performed using SGD, where a learning rate parameter controls how big a step is taken in the direction opposite to the gradient. Variants of SGD, like Adam (used in this project), can also be employed to adapt the learning rates based on past gradients, which can lead to faster convergence in practice.\n",
    "    \\item \\textbf{Iteration:} This process is repeated for multiple iterations (epochs) over the dataset, with each iteration aiming to reduce the overall loss. Each epoch goes through the entire dataset once.\n",
    "    \\item \\textbf{Regularization and Dropout:} To avoid overfitting, especially in a complex model trained on potentially noisy financial data, techniques like dropout are used. Dropout randomly disables a fraction of neurons during training, which helps to make the network robust to noise and forces it to learn more generalized features.\n",
    "\\end{enumerate}\n",
    "\n",
    "By carefully executing the above steps, the MLP model learns to categorize the input temperature data into distinct classes corresponding to different market behaviors predicted by the Ising model. This structured approach ensures that the model is not only trained to minimize the training error but also to generalize well on unseen data."
   ]
  },
  {
   "cell_type": "markdown",
   "metadata": {},
   "source": [
    "# Building an MLP with PyTorch"
   ]
  },
  {
   "cell_type": "code",
   "execution_count": 201,
   "metadata": {},
   "outputs": [
    {
     "name": "stdout",
     "output_type": "stream",
     "text": [
      "(32900, 54) \n",
      " (32900, 3)\n"
     ]
    }
   ],
   "source": [
    "X,y = X_enhanced, y_one_hot\n",
    "print(X.shape, '\\n', y.shape)"
   ]
  },
  {
   "cell_type": "markdown",
   "metadata": {},
   "source": [
    "### 1. Normalizing the data"
   ]
  },
  {
   "cell_type": "code",
   "execution_count": 202,
   "metadata": {},
   "outputs": [],
   "source": [
    "from sklearn.preprocessing import StandardScaler\n",
    "\n",
    "scaler = StandardScaler()\n",
    "X_scaled = scaler.fit_transform(X_enhanced)  \n"
   ]
  },
  {
   "cell_type": "markdown",
   "metadata": {},
   "source": [
    "### Training and Test Sets"
   ]
  },
  {
   "cell_type": "code",
   "execution_count": 203,
   "metadata": {},
   "outputs": [],
   "source": [
    "from sklearn.model_selection import train_test_split\n",
    "\n",
    "# Split the data\n",
    "X_train, X_test, y_train, y_test = train_test_split(X_scaled, y, test_size=0.2, random_state=42)\n"
   ]
  },
  {
   "cell_type": "code",
   "execution_count": 204,
   "metadata": {},
   "outputs": [
    {
     "name": "stdout",
     "output_type": "stream",
     "text": [
      "NaN in X_train: False\n",
      "Inf in X_train: False\n",
      "NaN in y_train: False\n",
      "Inf in y_train: False\n"
     ]
    }
   ],
   "source": [
    "# Check for NaN or Inf in X and y after scaling and transforming\n",
    "print(\"NaN in X_train:\", np.isnan(X_train).any())\n",
    "print(\"Inf in X_train:\", np.isinf(X_train).any())\n",
    "print(\"NaN in y_train:\", np.isnan(y_train).any())\n",
    "print(\"Inf in y_train:\", np.isinf(y_train).any())\n"
   ]
  },
  {
   "cell_type": "markdown",
   "metadata": {},
   "source": [
    "### 3. Convert Data to PyTorch Tensors"
   ]
  },
  {
   "cell_type": "code",
   "execution_count": 205,
   "metadata": {},
   "outputs": [],
   "source": [
    "X_train_tensor = torch.tensor(X_train, dtype=torch.float32)\n",
    "y_train_tensor = torch.tensor(y_train, dtype=torch.float32)\n",
    "X_test_tensor = torch.tensor(X_test, dtype=torch.float32)\n",
    "y_test_tensor = torch.tensor(y_test, dtype=torch.float32)"
   ]
  },
  {
   "cell_type": "markdown",
   "metadata": {},
   "source": [
    "### 4. Define the MLP model"
   ]
  },
  {
   "cell_type": "code",
   "execution_count": 206,
   "metadata": {},
   "outputs": [],
   "source": [
    "class MLP(nn.Module):\n",
    "    def __init__(self, input_size, num_classes):\n",
    "        super(MLP, self).__init__()\n",
    "        self.layer1 = nn.Linear(input_size, 128)\n",
    "        self.layer2 = nn.Linear(128, 64)\n",
    "        self.dropout = nn.Dropout(0.6)\n",
    "        self.output = nn.Linear(64, num_classes)\n",
    "\n",
    "    def forward(self, x):\n",
    "        x = torch.relu(self.layer1(x))\n",
    "        x = self.dropout(x)\n",
    "        x = torch.relu(self.layer2(x))\n",
    "        return self.output(x)\n",
    "\n",
    "# Initialize the model\n",
    "input_size = X_train_tensor.shape[1]\n",
    "num_classes = y_train_tensor.shape[1]\n",
    "model = MLP(input_size, num_classes)"
   ]
  },
  {
   "cell_type": "markdown",
   "metadata": {},
   "source": [
    "### 5. Loss Function and Optimizer"
   ]
  },
  {
   "cell_type": "code",
   "execution_count": null,
   "metadata": {},
   "outputs": [],
   "source": []
  },
  {
   "cell_type": "code",
   "execution_count": 207,
   "metadata": {},
   "outputs": [],
   "source": [
    "from torch import optim\n",
    "\n",
    "device = torch.device('cuda' if torch.cuda.is_available() else 'cpu')\n",
    "model.to(device)\n",
    "\n",
    "# loss function and optimizer\n",
    "criterion = nn.CrossEntropyLoss()\n",
    "optimizer = optim.Adam(model.parameters(), lr=0.001, weight_decay=1e-4)\n"
   ]
  },
  {
   "cell_type": "markdown",
   "metadata": {},
   "source": [
    "### 6. Data Loaders\n"
   ]
  },
  {
   "cell_type": "code",
   "execution_count": 208,
   "metadata": {},
   "outputs": [],
   "source": [
    "from torch.utils.data import DataLoader, TensorDataset\n",
    "\n",
    "# Prepare data loaders\n",
    "train_dataset = TensorDataset(X_train_tensor, y_train_tensor)\n",
    "train_loader = DataLoader(train_dataset, batch_size=64, shuffle=True)\n",
    "\n",
    "test_dataset = TensorDataset(X_test_tensor, y_test_tensor)\n",
    "test_loader = DataLoader(test_dataset, batch_size=64, shuffle=False)\n"
   ]
  },
  {
   "cell_type": "markdown",
   "metadata": {},
   "source": [
    "### 7. Train and Evaluate model"
   ]
  },
  {
   "cell_type": "code",
   "execution_count": 209,
   "metadata": {},
   "outputs": [],
   "source": [
    "def train_model(model, train_loader, test_loader, criterion, optimizer, num_epochs=50):\n",
    "    model.to(device)\n",
    "    history = {'train_loss': [], 'train_acc': [], 'test_loss': [], 'test_acc': []}\n",
    "\n",
    "    for epoch in range(num_epochs):\n",
    "        model.train()\n",
    "        train_loss = 0\n",
    "        correct = 0\n",
    "        total = 0\n",
    "\n",
    "        for data, targets in train_loader:\n",
    "            data, targets = data.to(device), targets.to(device)\n",
    "            optimizer.zero_grad()\n",
    "            outputs = model(data)\n",
    "            loss = criterion(outputs, targets)\n",
    "            loss.backward()\n",
    "            optimizer.step()\n",
    "\n",
    "            train_loss += loss.item()\n",
    "            _, predicted = torch.max(outputs.data, 1)\n",
    "            _, labels = torch.max(targets, 1)\n",
    "            total += labels.size(0)\n",
    "            correct += (predicted == labels).sum().item()\n",
    "\n",
    "        train_acc = 100 * correct / total\n",
    "        history['train_loss'].append(train_loss / len(train_loader))\n",
    "        history['train_acc'].append(train_acc)\n",
    "\n",
    "        test_loss, test_acc = evaluate_model(model, test_loader, criterion)\n",
    "        history['test_loss'].append(test_loss)\n",
    "        history['test_acc'].append(test_acc)\n",
    "        if epoch % 10 == 0 :\n",
    "            print(f'Epoch {epoch+1}: Train Loss: {train_loss / len(train_loader):.4f}, Train Acc: {train_acc:.2f}%, Test Loss: {test_loss:.4f}, Test Acc: {test_acc:.2f}%')\n",
    "\n",
    "    return history\n",
    "\n",
    "def evaluate_model(model, test_loader, criterion):\n",
    "    model.eval()\n",
    "    test_loss = 0\n",
    "    correct = 0\n",
    "    total = 0\n",
    "    with torch.no_grad():\n",
    "        for data, targets in test_loader:\n",
    "            data, targets = data.to(device), targets.to(device)\n",
    "            outputs = model(data)\n",
    "            loss = criterion(outputs, targets)\n",
    "            test_loss += loss.item()\n",
    "            _, predicted = torch.max(outputs.data, 1)\n",
    "            _, labels = torch.max(targets, 1)\n",
    "            total += labels.size(0)\n",
    "            correct += (predicted == labels).sum().item()\n",
    "\n",
    "    test_acc = 100 * correct / total\n",
    "    return test_loss / len(test_loader), test_acc\n"
   ]
  },
  {
   "cell_type": "code",
   "execution_count": 210,
   "metadata": {},
   "outputs": [
    {
     "name": "stdout",
     "output_type": "stream",
     "text": [
      "Epoch 1: Train Loss: 0.7876, Train Acc: 56.51%, Test Loss: 0.7281, Test Acc: 59.24%\n",
      "Epoch 11: Train Loss: 0.5043, Train Acc: 78.01%, Test Loss: 0.4482, Test Acc: 82.34%\n",
      "Epoch 21: Train Loss: 0.4645, Train Acc: 79.98%, Test Loss: 0.4212, Test Acc: 82.71%\n",
      "Epoch 31: Train Loss: 0.4516, Train Acc: 80.89%, Test Loss: 0.4098, Test Acc: 82.99%\n",
      "Epoch 41: Train Loss: 0.4363, Train Acc: 81.53%, Test Loss: 0.4109, Test Acc: 82.60%\n"
     ]
    },
    {
     "data": {
      "image/png": "[encoded data removed]",
      "text/plain": [
       "<Figure size 1200x500 with 2 Axes>"
      ]
     },
     "metadata": {},
     "output_type": "display_data"
    }
   ],
   "source": [
    "import matplotlib.pyplot as plt\n",
    "\n",
    "def plot_training_history(history):\n",
    "    epochs = range(1, len(history['train_loss']) + 1)\n",
    "    plt.figure(figsize=(12, 5))\n",
    "\n",
    "    plt.subplot(1, 2, 1)\n",
    "    plt.plot(epochs, history['train_loss'], 'r-', label='Train Loss')\n",
    "    plt.plot(epochs, history['test_loss'], 'b-', label='Test Loss')\n",
    "    plt.title('Training and Testing Loss')\n",
    "    plt.xlabel('Epochs')\n",
    "    plt.ylabel('Loss')\n",
    "    plt.legend()\n",
    "\n",
    "    plt.subplot(1, 2, 2)\n",
    "    plt.plot(epochs, history['train_acc'], 'r-', label='Train Accuracy')\n",
    "    plt.plot(epochs, history['test_acc'], 'b-', label='Test Accuracy')\n",
    "    plt.title('Training and Testing Accuracy')\n",
    "    plt.xlabel('Epochs')\n",
    "    plt.ylabel('Accuracy')\n",
    "    plt.legend()\n",
    "\n",
    "    plt.show()\n",
    "\n",
    "history = train_model(model, train_loader, test_loader, criterion, optimizer, num_epochs=50)\n",
    "plot_training_history(history)\n"
   ]
  },
  {
   "cell_type": "code",
   "execution_count": 211,
   "metadata": {},
   "outputs": [
    {
     "name": "stdout",
     "output_type": "stream",
     "text": [
      "Fold 1 Accuracy: 0.8383\n",
      "Fold 2 Accuracy: 0.8511\n",
      "Fold 3 Accuracy: 0.8574\n",
      "Fold 4 Accuracy: 0.8340\n",
      "Fold 5 Accuracy: 0.8234\n",
      "Average Cross-Validation Accuracy: 0.8409\n"
     ]
    }
   ],
   "source": [
    "import numpy as np\n",
    "import torch\n",
    "from torch import nn, optim\n",
    "from torch.utils.data import DataLoader, TensorDataset\n",
    "from sklearn.model_selection import KFold\n",
    "from sklearn.preprocessing import StandardScaler\n",
    "\n",
    "# Assuming the following variables are defined:\n",
    "# X_fourier: input features after Fourier transformation and any preprocessing\n",
    "# y_classification: target labels prepared as class indices\n",
    "\n",
    "# Parameters\n",
    "num_classes = np.unique(y_classification).size\n",
    "input_size = X_fourier.shape[1]\n",
    "num_folds = 5\n",
    "num_epochs = 50\n",
    "batch_size = 64\n",
    "\n",
    "# Initialize K-Fold cross-validation\n",
    "kf = KFold(n_splits=num_folds, shuffle=True, random_state=42)\n",
    "\n",
    "# Scaler for data normalization\n",
    "scaler = StandardScaler()\n",
    "\n",
    "# To store each fold's accuracy\n",
    "accuracies = []\n",
    "\n",
    "for fold, (train_idx, val_idx) in enumerate(kf.split(X_fourier)):\n",
    "    X_train, X_val = X_fourier[train_idx], X_fourier[val_idx]\n",
    "    y_train, y_val = y_classification[train_idx], y_classification[val_idx]\n",
    "\n",
    "    # Data normalization\n",
    "    X_train = scaler.fit_transform(X_train)\n",
    "    X_val = scaler.transform(X_val)\n",
    "\n",
    "    # Convert arrays to tensors\n",
    "    X_train_tensor = torch.tensor(X_train, dtype=torch.float32)\n",
    "    y_train_tensor = torch.tensor(y_train, dtype=torch.long)\n",
    "    X_val_tensor = torch.tensor(X_val, dtype=torch.float32)\n",
    "    y_val_tensor = torch.tensor(y_val, dtype=torch.long)\n",
    "\n",
    "    # Create Tensor datasets\n",
    "    train_dataset = TensorDataset(X_train_tensor, y_train_tensor)\n",
    "    val_dataset = TensorDataset(X_val_tensor, y_val_tensor)\n",
    "\n",
    "    # Data loaders\n",
    "    train_loader = DataLoader(train_dataset, batch_size=batch_size, shuffle=True)\n",
    "    val_loader = DataLoader(val_dataset, batch_size=batch_size)\n",
    "\n",
    "    # Initialize model\n",
    "    model = MLP(input_size, num_classes).to(device)\n",
    "\n",
    "    # Loss and optimizer\n",
    "    criterion = nn.CrossEntropyLoss()\n",
    "    optimizer = optim.Adam(model.parameters(), lr=0.001)\n",
    "\n",
    "    # Training loop\n",
    "    for epoch in range(num_epochs):\n",
    "        model.train()\n",
    "        for data, targets in train_loader:\n",
    "            data, targets = data.to(device), targets.to(device)\n",
    "            optimizer.zero_grad()\n",
    "            outputs = model(data)\n",
    "            loss = criterion(outputs, targets)\n",
    "            loss.backward()\n",
    "            optimizer.step()\n",
    "\n",
    "    # Validation loop\n",
    "    model.eval()\n",
    "    correct = 0\n",
    "    total = 0\n",
    "    with torch.no_grad():\n",
    "        for data, targets in val_loader:\n",
    "            data, targets = data.to(device), targets.to(device)\n",
    "            outputs = model(data)\n",
    "            _, predicted = torch.max(outputs.data, 1)\n",
    "            total += targets.size(0)\n",
    "            correct += (predicted == targets).sum().item()\n",
    "\n",
    "    fold_accuracy = correct / total\n",
    "    accuracies.append(fold_accuracy)\n",
    "    print(f\"Fold {fold+1} Accuracy: {fold_accuracy:.4f}\")\n",
    "\n",
    "# Average accuracy across all folds\n",
    "average_accuracy = np.mean(accuracies)\n",
    "print(f\"Average Cross-Validation Accuracy: {average_accuracy:.4f}\")\n"
   ]
  },
  {
   "cell_type": "markdown",
   "metadata": {},
   "source": [
    "# 5. Validation \n",
    "The MLP model was validated using k-fold cross-validation with k=5. This approach involves partitioning the data into k equal-sized subsets. For each validation, the model is trained on k−1 subsets while the remaining subset is used as the test set. This cycle is repeated k times with each subset used exactly once as the test set. K-fold cross-validation helps in ensuring that the model’s performance is reliable and consistent across different subsets of the data, reducing the likelihood of anomalies due to any particular random split."
   ]
  },
  {
   "cell_type": "markdown",
   "metadata": {},
   "source": [
    "We can see that my model was starting to overfit, which was a recurrent problem during the training of my model.\n",
    "However by adjusting the number of layers and neurons, the dropout rate, and adding a weight decay, I was able to considerably disminish overfitting.\n",
    "\n",
    "The generalizability of the model beyond the training dataset was tested by evaluating its performance on a separate validation set that was not used during the training phase. This set was chosen to represent potential real-world applications to ensure that the model can perform well in practical scenarios, not just in controlled experiment settings. The ability of the model to maintain high performance on this external dataset provides a good indication of its generalizability.\n"
   ]
  },
  {
   "cell_type": "markdown",
   "metadata": {},
   "source": [
    "# 6.White-boxing the Model\n",
    "\n",
    "the MLP model, trained on market behavior data simulated using the Ising model, learned to classify different temperature ranges based on the input features being the log-return. Through supervised training, the model was taught to map the input data to specific categories representing market behaviors at various temperature regimes. To ensure its reliability, the model's performance was rigorously evaluated using k-fold cross-validation, assessing both training and validation accuracies to guard against overfitting or underfitting.\n",
    "\n",
    "Regarding what the model learned, it essentially created decision boundaries in a transformed latent space, marking different market temperature ranges. These decision boundaries were established by adjusting the weights and biases of the neurons in the hidden layers during training. The model's ability to accurately classify market behaviors beyond the training dataset suggests it learned generalized patterns rather than merely memorizing the training examples. "
   ]
  },
  {
   "cell_type": "markdown",
   "metadata": {},
   "source": [
    "# 7.Insights\n",
    "\n",
    "Throughout my project, I've gained significant insights at the intersection of econophysics and machine learning. By simulating market models using the Ising model, I've developed a deeper understanding of how temperature regimes, derived from these simulations, relate to specific market states. This exploration has provided valuable insights into the complex dynamics governing financial markets, revealing nuanced relationships between variables influencing market behavior.\n",
    "\n",
    "Moreover, through training an MLP classifier on the Ising model data, I've discovered the model's ability to effectively learn and represent complex patterns within financial data. I've observed how the MLP can discern subtle relationships between market variables and categorize them into distinct temperature ranges, showcasing the power of machine learning in uncovering hidden structures within intricate datasets. However, grappling with interpreting the model's learned representations highlights the ongoing challenge of creating transparent and interpretable machine learning models, especially in finance, where understanding underlying mechanisms is crucial.\n",
    "\n",
    "Overall I am glad to have taken this challenging project, slightly different than the intended homework but very simulating. "
   ]
  },
  {
   "cell_type": "markdown",
   "metadata": {},
   "source": []
  }
 ],
 "metadata": {
  "kernelspec": {
   "display_name": "mlproject",
   "language": "python",
   "name": "mlproject"
  },
  "language_info": {
   "codemirror_mode": {
    "name": "ipython",
    "version": 3
   },
   "file_extension": ".py",
   "mimetype": "text/x-python",
   "name": "python",
   "nbconvert_exporter": "python",
   "pygments_lexer": "ipython3",
   "version": "3.11.3"
  }
 },
 "nbformat": 4,
 "nbformat_minor": 2
}
